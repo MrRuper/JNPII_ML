{
 "cells": [
  {
   "cell_type": "code",
   "execution_count": 79,
   "id": "4ddcbee3",
   "metadata": {},
   "outputs": [],
   "source": [
    "import numpy as np\n",
    "import matplotlib.pyplot as plt\n",
    "from mpl_toolkits.mplot3d import axes3d"
   ]
  },
  {
   "cell_type": "code",
   "execution_count": 183,
   "id": "995a1f6d",
   "metadata": {},
   "outputs": [
    {
     "name": "stdout",
     "output_type": "stream",
     "text": [
      "0.0\n",
      "2.1\n",
      "1.9039813759182143\n"
     ]
    },
    {
     "ename": "IndexError",
     "evalue": "index 120 is out of bounds for axis 0 with size 3",
     "output_type": "error",
     "traceback": [
      "\u001b[0;31m---------------------------------------------------------------------------\u001b[0m",
      "\u001b[0;31mIndexError\u001b[0m                                Traceback (most recent call last)",
      "\u001b[0;32m/tmp/ipykernel_5551/2953006418.py\u001b[0m in \u001b[0;36m<module>\u001b[0;34m\u001b[0m\n\u001b[1;32m     79\u001b[0m \u001b[0mprint\u001b[0m\u001b[0;34m(\u001b[0m\u001b[0mw1\u001b[0m\u001b[0;34m[\u001b[0m\u001b[0;36m1\u001b[0m\u001b[0;34m,\u001b[0m\u001b[0;36m2\u001b[0m\u001b[0;34m]\u001b[0m\u001b[0;34m)\u001b[0m\u001b[0;34m\u001b[0m\u001b[0;34m\u001b[0m\u001b[0m\n\u001b[1;32m     80\u001b[0m \u001b[0mprint\u001b[0m\u001b[0;34m(\u001b[0m\u001b[0mZ\u001b[0m\u001b[0;34m[\u001b[0m\u001b[0;36m1\u001b[0m\u001b[0;34m,\u001b[0m\u001b[0;36m2\u001b[0m\u001b[0;34m]\u001b[0m\u001b[0;34m)\u001b[0m\u001b[0;34m\u001b[0m\u001b[0;34m\u001b[0m\u001b[0m\n\u001b[0;32m---> 81\u001b[0;31m \u001b[0mprint\u001b[0m\u001b[0;34m(\u001b[0m\u001b[0mMSE_matrix_A_B\u001b[0m\u001b[0;34m[\u001b[0m\u001b[0mi\u001b[0m\u001b[0;34m]\u001b[0m\u001b[0;34m[\u001b[0m\u001b[0mj\u001b[0m\u001b[0;34m]\u001b[0m\u001b[0;34m)\u001b[0m\u001b[0;34m\u001b[0m\u001b[0;34m\u001b[0m\u001b[0m\n\u001b[0m\u001b[1;32m     82\u001b[0m \u001b[0;31m#third_column_A_B = third_column_A_B.reshape((11,11))\u001b[0m\u001b[0;34m\u001b[0m\u001b[0;34m\u001b[0m\u001b[0m\n\u001b[1;32m     83\u001b[0m \u001b[0;34m\u001b[0m\u001b[0m\n",
      "\u001b[0;31mIndexError\u001b[0m: index 120 is out of bounds for axis 0 with size 3"
     ]
    }
   ],
   "source": [
    "#The data in the project is given by small matrix, thus we initialise it manualy.\n",
    "#'f8' stands for 64-bit float.\n",
    "\n",
    "data_input = np.array([(1.0, 1.3, 2.6, 0),\n",
    "                       (2.2, 1.1, 1.2, 1),\n",
    "                       (2.0, 2.4, 3.8, 1),\n",
    "                       (1.5, 3.2, 2.1, 0),\n",
    "                       (3.2, 1.2, 4.2, 1)],\n",
    "                       dtype = {'names': ('A','B','C','Y'),\n",
    "                                'formats': ('f8','f8','f8','i8')})\n",
    "\n",
    "#define w_0 and w_1 weights\n",
    "\n",
    "input_weights_w_0 = np.linspace(0, 1, 11)\n",
    "input_weights_w_1 = np.linspace(2, 3, 11)\n",
    "\n",
    "#define A, B, Y and B, C, Y matrices fro the input\n",
    "\n",
    "data_A_B_Y = data_input[['A', 'B', 'Y']].copy()\n",
    "data_B_C_Y = data_input[['B', 'C', 'Y']].copy()\n",
    "\n",
    "#define the MSE_matrix which has in the row (w_0, w_1, MSE(w0,w1))\n",
    "\n",
    "MSE_matrix_A_B = []  \n",
    "MSE_matrix_B_C = []\n",
    "\n",
    "for i in input_weights_w_0:\n",
    "    for j in input_weights_w_1:\n",
    "        \n",
    "        #define model function \n",
    "        \n",
    "        M = lambda x_0, x_1 : 1 / (1 + np.exp(-(i*x_0 + j*x_1)))\n",
    "        \n",
    "        #define helper variables for the MSE count for fixed weights w_0 and w_1\n",
    "        local_variable1 = 0\n",
    "        local_variable2 = 0\n",
    "        \n",
    "        #loop for A, B, Y data\n",
    "        \n",
    "        for z in data_A_B_Y:\n",
    "            local_variable1 += (z[2] - M(z[0], z[1]))**2\n",
    "        \n",
    "        #loop for B, C, Y data\n",
    "        \n",
    "        for z in data_B_C_Y:\n",
    "            local_variable2 += (z[2] - M(z[0], z[1]))**2\n",
    "            \n",
    "        MSE_matrix_A_B.append([i, j, local_variable1])\n",
    "        MSE_matrix_B_C.append([i, j, local_variable2])\n",
    "        \n",
    "MSE_matrix_A_B = np.array(MSE_matrix_A_B)\n",
    "MSE_matrix_B_C = np.array(MSE_matrix_B_C)\n",
    "\n",
    "#Prepare the columns for plotting. \n",
    "#For A, B matrix\n",
    "\n",
    "first_column_A_B = MSE_matrix_A_B[:, 0]\n",
    "second_column_A_B = MSE_matrix_A_B[:, 1]\n",
    "third_column_A_B = MSE_matrix_A_B[:, 2]\n",
    "\n",
    "#For B, C matrix\n",
    "\n",
    "first_column_B_C = MSE_matrix_B_C[:, 0]\n",
    "second_column_B_C = MSE_matrix_B_C[:, 1]\n",
    "third_column_B_C = MSE_matrix_B_C[:, 2]\n",
    "\n",
    "#Create the grid of the first and second columns.\n",
    "#For A, B:\n",
    "\n",
    "[w0,w1] = np.meshgrid(first_column_A_B, second_column_A_B)\n",
    "Z = np.zeros((121,121))\n",
    "\n",
    "for i in range(121):\n",
    "    for j in range(121):\n",
    "        Z[i][j] = third_column_A_B[j]\n",
    "\n",
    "\n",
    "print(w0[1,2])\n",
    "print(w1[1,2])\n",
    "print(Z[1,2])\n",
    "print(MSE_matrix_A)\n",
    "#third_column_A_B = third_column_A_B.reshape((11,11))\n",
    "\n",
    "fig = plt.figure()\n",
    "ax = plt.axes(projection='3d')\n",
    "ax.set(title = 'Squared Error', zlabel='SE', xlabel='w0', ylabel='w1')\n",
    "ax.plot_surface(w0,w1 ,Z)\n"
   ]
  },
  {
   "cell_type": "code",
   "execution_count": null,
   "id": "09c3b50a",
   "metadata": {},
   "outputs": [],
   "source": []
  },
  {
   "cell_type": "code",
   "execution_count": null,
   "id": "43e78f9b",
   "metadata": {},
   "outputs": [],
   "source": []
  },
  {
   "cell_type": "code",
   "execution_count": null,
   "id": "70bd6e1c",
   "metadata": {},
   "outputs": [],
   "source": []
  },
  {
   "cell_type": "code",
   "execution_count": null,
   "id": "79471c4c",
   "metadata": {},
   "outputs": [],
   "source": []
  },
  {
   "cell_type": "code",
   "execution_count": null,
   "id": "a50198d2",
   "metadata": {},
   "outputs": [],
   "source": []
  },
  {
   "cell_type": "code",
   "execution_count": null,
   "id": "4d4c458c",
   "metadata": {},
   "outputs": [],
   "source": []
  },
  {
   "cell_type": "code",
   "execution_count": null,
   "id": "2b36d155",
   "metadata": {},
   "outputs": [],
   "source": []
  },
  {
   "cell_type": "code",
   "execution_count": null,
   "id": "8af41593",
   "metadata": {},
   "outputs": [],
   "source": []
  },
  {
   "cell_type": "code",
   "execution_count": null,
   "id": "7a3e72e5",
   "metadata": {},
   "outputs": [],
   "source": []
  },
  {
   "cell_type": "code",
   "execution_count": null,
   "id": "27f2dbe0",
   "metadata": {},
   "outputs": [],
   "source": []
  },
  {
   "cell_type": "code",
   "execution_count": null,
   "id": "afe1d908",
   "metadata": {},
   "outputs": [],
   "source": []
  },
  {
   "cell_type": "code",
   "execution_count": null,
   "id": "b0fb95f9",
   "metadata": {},
   "outputs": [],
   "source": []
  }
 ],
 "metadata": {
  "kernelspec": {
   "display_name": "Python 3 (ipykernel)",
   "language": "python",
   "name": "python3"
  },
  "language_info": {
   "codemirror_mode": {
    "name": "ipython",
    "version": 3
   },
   "file_extension": ".py",
   "mimetype": "text/x-python",
   "name": "python",
   "nbconvert_exporter": "python",
   "pygments_lexer": "ipython3",
   "version": "3.9.13"
  }
 },
 "nbformat": 4,
 "nbformat_minor": 5
}
